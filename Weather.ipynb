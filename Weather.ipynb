{
 "cells": [
  {
   "cell_type": "markdown",
   "metadata": {},
   "source": [
    "# INSTALLING REQUESTS LIBRARY "
   ]
  },
  {
   "cell_type": "code",
   "execution_count": 1,
   "metadata": {},
   "outputs": [
    {
     "name": "stdout",
     "output_type": "stream",
     "text": [
      "Requirement already satisfied: requests in c:\\users\\visha\\appdata\\local\\programs\\python\\python312\\lib\\site-packages (2.32.3)\n",
      "Requirement already satisfied: charset-normalizer<4,>=2 in c:\\users\\visha\\appdata\\local\\programs\\python\\python312\\lib\\site-packages (from requests) (3.3.2)\n",
      "Requirement already satisfied: idna<4,>=2.5 in c:\\users\\visha\\appdata\\local\\programs\\python\\python312\\lib\\site-packages (from requests) (3.7)\n",
      "Requirement already satisfied: urllib3<3,>=1.21.1 in c:\\users\\visha\\appdata\\local\\programs\\python\\python312\\lib\\site-packages (from requests) (2.2.2)\n",
      "Requirement already satisfied: certifi>=2017.4.17 in c:\\users\\visha\\appdata\\local\\programs\\python\\python312\\lib\\site-packages (from requests) (2024.7.4)\n",
      "Note: you may need to restart the kernel to use updated packages.\n"
     ]
    },
    {
     "name": "stderr",
     "output_type": "stream",
     "text": [
      "\n",
      "[notice] A new release of pip is available: 24.2 -> 24.3.1\n",
      "[notice] To update, run: python.exe -m pip install --upgrade pip\n"
     ]
    }
   ],
   "source": [
    "pip install requests "
   ]
  },
  {
   "cell_type": "markdown",
   "metadata": {},
   "source": [
    "# SETTING UP THE API KEY AND ACCESSING IT IN PYTHON "
   ]
  },
  {
   "cell_type": "code",
   "execution_count": null,
   "metadata": {},
   "outputs": [],
   "source": [
    "import os\n",
    "API_KEY = os.getenv(\"4b3050b8e55623d2d651af71986ad9b0\")"
   ]
  },
  {
   "cell_type": "markdown",
   "metadata": {},
   "source": [
    "# SENDING AN API REQUESTS "
   ]
  },
  {
   "cell_type": "code",
   "execution_count": 16,
   "metadata": {},
   "outputs": [
    {
     "name": "stdout",
     "output_type": "stream",
     "text": [
      "City: Dehradun\n",
      "Temperature: 287.34 K\n",
      "Weather: clear sky\n"
     ]
    }
   ],
   "source": [
    "import requests\n",
    "\n",
    "API_KEY = \"4b3050b8e55623d2d651af71986ad9b0\"\n",
    "BASE_URL = \"https://api.openweathermap.org/data/2.5/weather\"\n",
    "city = \"DehraDun\"\n",
    "params = {\"q\": city, \"appid\": API_KEY}\n",
    "\n",
    "response = requests.get(BASE_URL, params=params)\n",
    "\n",
    "if response.status_code == 200:\n",
    "    data = response.json()\n",
    "    print(f\"City: {data['name']}\")\n",
    "    print(f\"Temperature: {data['main']['temp']} K\")\n",
    "    print(f\"Weather: {data['weather'][0]['description']}\")\n",
    "else:\n",
    "    print(f\"Error: {response.status_code}\")\n"
   ]
  },
  {
   "cell_type": "markdown",
   "metadata": {},
   "source": [
    "# CONVERTING UNITS MANUALLY IN CODE "
   ]
  },
  {
   "cell_type": "code",
   "execution_count": 17,
   "metadata": {},
   "outputs": [
    {
     "name": "stdout",
     "output_type": "stream",
     "text": [
      "City: Dehradun\n",
      "Temperature in Kelvin: 287.34 K\n",
      "Temperature in Celsius: 14.19 °C\n",
      "Temperature in Fahrenheit: 57.54 °F\n"
     ]
    }
   ],
   "source": [
    "import requests\n",
    "\n",
    "API_KEY = \"4b3050b8e55623d2d651af71986ad9b0\"\n",
    "BASE_URL = \"https://api.openweathermap.org/data/2.5/weather\"\n",
    "city = \"DehraDun\"\n",
    "\n",
    "params = {\"q\": city, \"appid\": API_KEY}  # No 'units' parameter, so temperature will be in Kelvin\n",
    "response = requests.get(BASE_URL, params=params)\n",
    "\n",
    "if response.status_code == 200:\n",
    "    data = response.json()\n",
    "    kelvin_temp = data['main']['temp']\n",
    "    \n",
    "    # Convert Kelvin to Celsius and Fahrenheit\n",
    "    celsius_temp = kelvin_temp - 273.15\n",
    "    fahrenheit_temp = (kelvin_temp - 273.15) * 9/5 + 32\n",
    "    \n",
    "    print(f\"City: {data['name']}\")\n",
    "    print(f\"Temperature in Kelvin: {kelvin_temp} K\")\n",
    "    print(f\"Temperature in Celsius: {celsius_temp:.2f} °C\")\n",
    "    print(f\"Temperature in Fahrenheit: {fahrenheit_temp:.2f} °F\")\n",
    "else:\n",
    "    print(f\"Error: {response.status_code}\")\n"
   ]
  },
  {
   "cell_type": "code",
   "execution_count": 21,
   "metadata": {},
   "outputs": [
    {
     "name": "stdout",
     "output_type": "stream",
     "text": [
      "Failed to fetch weather data.\n"
     ]
    }
   ],
   "source": [
    "import requests\n",
    "\n",
    "api_key = \"4b3050b8e55623d2d651af71986ad9b0\"\n",
    "city = \"DehraDun\"\n",
    "url = f\"https://api.openweathermap.org/data/2.5/weather\"\n",
    "\n",
    "response = requests.get(url)\n",
    "if response.status_code == 200:\n",
    "    data = response.json()\n",
    "    print(f\"Weather in {city}: {data['weather'][0]['description']}\")\n",
    "    print(f\"Temperature: {data['main']['temp']}K\")\n",
    "else:\n",
    "    print(\"Failed to fetch weather data.\")"
   ]
  },
  {
   "cell_type": "markdown",
   "metadata": {},
   "source": [
    "# HANDELLING ERRORS AND RATE LIMITS "
   ]
  },
  {
   "cell_type": "code",
   "execution_count": 20,
   "metadata": {},
   "outputs": [],
   "source": [
    "try:\n",
    "    response = requests.get(BASE_URL, params=params)\n",
    "    response.raise_for_status()\n",
    "except requests.exceptions.HTTPError as err:\n",
    "    print(f\"HTTP Error: {err}\")\n",
    "except Exception as e:\n",
    "    print(f\"Error: {e}\")\n"
   ]
  },
  {
   "cell_type": "code",
   "execution_count": null,
   "metadata": {},
   "outputs": [],
   "source": [
    "#http://api.openweathermap.org/data/2.5/weather?q={city}&appid={api_key}"
   ]
  }
 ],
 "metadata": {
  "kernelspec": {
   "display_name": "Python 3",
   "language": "python",
   "name": "python3"
  },
  "language_info": {
   "codemirror_mode": {
    "name": "ipython",
    "version": 3
   },
   "file_extension": ".py",
   "mimetype": "text/x-python",
   "name": "python",
   "nbconvert_exporter": "python",
   "pygments_lexer": "ipython3",
   "version": "3.12.4"
  }
 },
 "nbformat": 4,
 "nbformat_minor": 2
}
